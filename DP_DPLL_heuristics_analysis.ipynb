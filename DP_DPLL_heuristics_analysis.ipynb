{
  "nbformat": 4,
  "nbformat_minor": 0,
  "metadata": {
    "colab": {
      "name": "aitp_hw1.ipynb",
      "provenance": [],
      "collapsed_sections": [
        "Jo3pJrQRgY-3",
        "5C8REXnBt1ee",
        "wz4vMk-ZtIMN",
        "CMQWjDQ5tKwa",
        "PI-g9nUPtOE5",
        "QhCgpRYwfBFS",
        "tDwat6ENfFk3",
        "ixWu7405fN6J",
        "9rSzx6zkfqvx",
        "vryvlJQJrBwt"
      ]
    },
    "kernelspec": {
      "name": "python3",
      "display_name": "Python 3"
    }
  },
  "cells": [
    {
      "cell_type": "markdown",
      "metadata": {
        "id": "kj9AxrT9et0S",
        "colab_type": "text"
      },
      "source": [
        "# DP and DPLL with various heuristics comparision\n",
        "\n",
        "author: Witalis Domitrz <witekdomitrz@gmail.com>"
      ]
    },
    {
      "cell_type": "markdown",
      "metadata": {
        "id": "Jo3pJrQRgY-3",
        "colab_type": "text"
      },
      "source": [
        "## Types"
      ]
    },
    {
      "cell_type": "code",
      "metadata": {
        "id": "rtdggGXLwjeD",
        "colab_type": "code",
        "colab": {}
      },
      "source": [
        "from typing import MutableSet, FrozenSet, Iterable, List\n",
        "# I represent the CNF formula as a frozenset of frozen sets\n",
        "Literal = int\n",
        "Clause = FrozenSet[Literal]\n",
        "CNF = FrozenSet[Clause]\n",
        "\n",
        "# Helper Functions\n",
        "def to_list(cnf: CNF) -> List[List[Literal]]:\n",
        "    return list(map(list, cnf))\n",
        "\n",
        "def from_lists(cnf: Iterable[Iterable[Literal]]) -> CNF:\n",
        "    return frozenset(map(frozenset, cnf))"
      ],
      "execution_count": 0,
      "outputs": []
    },
    {
      "cell_type": "markdown",
      "metadata": {
        "id": "5C8REXnBt1ee",
        "colab_type": "text"
      },
      "source": [
        "## Base algorithm"
      ]
    },
    {
      "cell_type": "code",
      "metadata": {
        "id": "wPsJ4By4txeB",
        "colab_type": "code",
        "colab": {}
      },
      "source": [
        "from typing import Tuple, Callable\n",
        "class BaseAlgorithm:\n",
        "    @staticmethod\n",
        "    def is_tautology(c: Clause) -> bool:\n",
        "        return not c.isdisjoint(frozenset(map(lambda l: -l, c)))\n",
        "\n",
        "    @staticmethod\n",
        "    def get_singleton_literals(cnf: CNF) -> FrozenSet[Literal]:\n",
        "        literals = set()\n",
        "        for c in cnf:\n",
        "            if len(c) == 1:\n",
        "                literals |= c\n",
        "        return frozenset(literals)\n",
        "    \n",
        "    @classmethod\n",
        "    def tatuology_rule(cls, cnf: CNF) -> Tuple[CNF, bool]:\n",
        "        # We return False, because the tatutology rule is the first one, so\n",
        "        # there is no point in trying it again if only it succeded\n",
        "        return frozenset(filter(lambda c: not cls.is_tautology(c), cnf)), False\n",
        "\n",
        "    @classmethod\n",
        "    def unit_clause_rule(cls, cnf: CNF) -> Tuple[CNF, bool]:\n",
        "        singleton_literals = cls.get_singleton_literals(cnf)\n",
        "        # I process all the singleton literals at once. I am awere that is is\n",
        "        # different than the classical iteration and it can be easilly changed\n",
        "        # if needed.\n",
        "        # To process all the singleton literals at once we cannot process l \n",
        "        # and -l at the same time.\n",
        "        singleton_literals = frozenset(filter(\n",
        "            lambda l: -l not in singleton_literals or l > 0, singleton_literals))\n",
        "        neg_singleton_literals = frozenset(map(lambda l: -l, singleton_literals))\n",
        "        if singleton_literals:\n",
        "            return frozenset(c - neg_singleton_literals for c in cnf if \n",
        "                             c.isdisjoint(singleton_literals)), True\n",
        "        else:\n",
        "            return cnf, False\n",
        "\n",
        "    @classmethod\n",
        "    def pure_literal_rule(cls, cnf: CNF) -> Tuple[CNF, bool]:\n",
        "        # union needs nonzero number of parameters\n",
        "        if not cnf:\n",
        "            return cnf, True\n",
        "        # I process all one_sign_literals at once. I am awere that it is\n",
        "        # different than the classical iteration and it can be easilly changed\n",
        "        # if needed.\n",
        "        all_literals = frozenset.union(*cnf)\n",
        "        one_sign_literals = frozenset(\n",
        "            filter(lambda l: -l not in all_literals, all_literals))\n",
        "        if one_sign_literals:\n",
        "            return frozenset(c for c in cnf if c.isdisjoint(one_sign_literals)), True\n",
        "        else:\n",
        "            return cnf, False\n",
        "\n",
        "    @classmethod\n",
        "    def simplify(cls, cnf: CNF) -> Tuple[CNF, bool]:\n",
        "        simplified_acc = False\n",
        "        for simplifier in [cls.tatuology_rule, \n",
        "                           cls.unit_clause_rule, \n",
        "                           cls.pure_literal_rule]:\n",
        "            cnf, simplified = simplifier(cnf)\n",
        "            simplified_acc |= simplified\n",
        "        return cnf, simplified_acc\n",
        "\n",
        "    def run(self, cnf: CNF) -> bool:\n",
        "        # return satisfiability if there are no clauses\n",
        "        if not cnf:\n",
        "            return True            \n",
        "        # return unsatisfiability if there is an empty clause\n",
        "        for c in cnf:\n",
        "            if not c:\n",
        "                return False\n",
        "        # try to simplify formula\n",
        "        cnf, simplified, = self.simplify(cnf)\n",
        "        if not simplified:\n",
        "            return self.core_function(cnf)\n",
        "        else:\n",
        "            return self.run(cnf)\n",
        "\n",
        "    @staticmethod\n",
        "    def parse_preambule(preambule: str) -> Tuple[int, int]:\n",
        "        preambule =  preambule.strip().split()\n",
        "        line_start, format_name = preambule[0], preambule[1]\n",
        "        if line_start != \"p\" or format_name != \"cnf\":\n",
        "            raise NotImplementedError(\"File format not supported: \" + format_name)\n",
        "        no_variables, no_clauses = int(preambule[2]), int(preambule[3])\n",
        "        return no_variables, no_clauses\n",
        "\n",
        "    @classmethod\n",
        "    def get_cnf_from_file(cls, fn: str) -> Tuple[int, int, CNF]:\n",
        "        with open(fn) as f:\n",
        "            lines = f.readlines()\n",
        "        # filter comments\n",
        "        lines = list(filter(lambda line: line[0] != 'c', lines))\n",
        "        # Parse preambule\n",
        "        no_variables, no_clauses = cls.parse_preambule(lines[0])\n",
        "        # Split to clauses\n",
        "        data = \" \".join(lines[1:]).strip().split()\n",
        "        clauses, clause, clauses_counter = set(), set(), 0\n",
        "        for x in data:\n",
        "            if x == \"0\":\n",
        "                clauses.add(frozenset(clause))\n",
        "                clause = set()\n",
        "                clauses_counter += 1\n",
        "                if clauses_counter == no_clauses:\n",
        "                    break\n",
        "            else:\n",
        "                clause.add(int(x))\n",
        "        return no_variables, no_clauses, frozenset(clauses)\n",
        "\n",
        "    def __call__(self, fn: str) -> None:\n",
        "        (_, _, cnf) = self.get_cnf_from_file(fn)\n",
        "        if self.run(cnf):\n",
        "            print(\"SAT\")\n",
        "        else:\n",
        "            print(\"UNSAT\")\n",
        "\n",
        "    def core_function(self, cnf: CNF) -> bool:\n",
        "        raise NotImplemented(\"This is an abstract class\")\n",
        "\n",
        "class AlgorithmWithLiteralChoosingHeuristic(BaseAlgorithm):\n",
        "    def __init__(self, literal_heuristic: Callable[[CNF], Literal]) -> None:\n",
        "        self.literal_heuristic = literal_heuristic\n",
        "\n",
        "    def core_function(self, cnf: CNF) -> bool:\n",
        "        l = self.literal_heuristic(cnf)\n",
        "        return self.core_function_with_literal_heurstic(l, cnf)\n",
        "    \n",
        "    def core_function_with_literal_heurstic(self, l: Literal, cnf: CNF) -> bool:\n",
        "        raise NotImplemented(\"This is an abstract class\")"
      ],
      "execution_count": 0,
      "outputs": []
    },
    {
      "cell_type": "markdown",
      "metadata": {
        "id": "wz4vMk-ZtIMN",
        "colab_type": "text"
      },
      "source": [
        "## The algoritms"
      ]
    },
    {
      "cell_type": "markdown",
      "metadata": {
        "id": "CMQWjDQ5tKwa",
        "colab_type": "text"
      },
      "source": [
        "### DP algorithm"
      ]
    },
    {
      "cell_type": "code",
      "metadata": {
        "id": "4sXQ62uwtFcy",
        "colab_type": "code",
        "colab": {}
      },
      "source": [
        "class DP(AlgorithmWithLiteralChoosingHeuristic):\n",
        "    def __init__(self, literal_heuristic: Callable[[CNF], Literal]) -> None:\n",
        "        super().__init__(literal_heuristic)\n",
        "\n",
        "    def core_function_with_literal_heurstic(self, l: Literal, cnf: CNF) -> bool:\n",
        "        l_and_neg_l = frozenset({l, -l})\n",
        "        c_with_l = frozenset(c - l_and_neg_l for c in cnf if l in c)\n",
        "        c_with_neg_l = frozenset(c - l_and_neg_l for c in cnf if -l in c)\n",
        "        resolvents = frozenset(c1.union(c2) for c1 in c_with_l for c2 in c_with_neg_l)\n",
        "        cnf = resolvents.union(filter(l_and_neg_l.isdisjoint, cnf))\n",
        "        return self.run(cnf)"
      ],
      "execution_count": 0,
      "outputs": []
    },
    {
      "cell_type": "markdown",
      "metadata": {
        "id": "PI-g9nUPtOE5",
        "colab_type": "text"
      },
      "source": [
        "### DPLL algorithm"
      ]
    },
    {
      "cell_type": "code",
      "metadata": {
        "id": "L7mdPfSotSZm",
        "colab_type": "code",
        "colab": {}
      },
      "source": [
        "class DPLL(AlgorithmWithLiteralChoosingHeuristic):\n",
        "    def __init__(self, literal_heuristic: Callable[[CNF], Literal]) -> None:\n",
        "        super().__init__(literal_heuristic)\n",
        "\n",
        "    def core_function_with_literal_heurstic(self, l: Literal, cnf: CNF) -> bool:\n",
        "        if self.run(cnf | frozenset({frozenset({l})})):\n",
        "            return True\n",
        "        return self.run(cnf | frozenset({frozenset({-l})}))"
      ],
      "execution_count": 0,
      "outputs": []
    },
    {
      "cell_type": "markdown",
      "metadata": {
        "id": "y6sYVAfltUz5",
        "colab_type": "text"
      },
      "source": [
        "### Selected algorithms"
      ]
    },
    {
      "cell_type": "code",
      "metadata": {
        "id": "scWEflXwtcYr",
        "colab_type": "code",
        "colab": {}
      },
      "source": [
        "algorithms = {\"DPLL\": DPLL, \"DP\": DP}"
      ],
      "execution_count": 0,
      "outputs": []
    },
    {
      "cell_type": "markdown",
      "metadata": {
        "id": "QhCgpRYwfBFS",
        "colab_type": "text"
      },
      "source": [
        "## Heuristics for choosing a literal"
      ]
    },
    {
      "cell_type": "markdown",
      "metadata": {
        "id": "tDwat6ENfFk3",
        "colab_type": "text"
      },
      "source": [
        "### A helper function"
      ]
    },
    {
      "cell_type": "code",
      "metadata": {
        "id": "7zbmzgG_fILB",
        "colab_type": "code",
        "colab": {}
      },
      "source": [
        "from typing import Dict\n",
        "# Helper functions\n",
        "def count_literals(cnf: CNF) -> Dict[Literal, int]:\n",
        "    counts = {}\n",
        "    for c in cnf:\n",
        "        for l in c:\n",
        "            counts[l] = counts.get(l, 0) + 1\n",
        "    return counts"
      ],
      "execution_count": 0,
      "outputs": []
    },
    {
      "cell_type": "markdown",
      "metadata": {
        "id": "ixWu7405fN6J",
        "colab_type": "text"
      },
      "source": [
        "### The heuristics implementation"
      ]
    },
    {
      "cell_type": "code",
      "metadata": {
        "id": "u6OvM1MRWRSS",
        "colab_type": "code",
        "colab": {}
      },
      "source": [
        "def first_of_first(cnf: CNF) -> Literal:\n",
        "    for c in cnf:\n",
        "        for l in c:\n",
        "            return l\n",
        "\n",
        "def most_common(cnf: CNF) -> Literal:\n",
        "    counts = count_literals(cnf)\n",
        "    return max(counts.items(), key=lambda x: x[1])[0]\n",
        "\n",
        "def least_common(cnf: CNF) -> Literal:\n",
        "    counts = count_literals(cnf)\n",
        "    return min(counts.items(), key=lambda x: x[1])[0]\n",
        "\n",
        "def middle_common(cnf: CNF) -> Literal:\n",
        "    counts = count_literals(cnf)\n",
        "    # It is possible to do is in O(n) time, but here is O(n * log(n)) solution\n",
        "    return sorted(counts.items(), key=lambda x: x[1])[len(counts) // 2][0]"
      ],
      "execution_count": 0,
      "outputs": []
    },
    {
      "cell_type": "markdown",
      "metadata": {
        "id": "9rSzx6zkfqvx",
        "colab_type": "text"
      },
      "source": [
        "### Selected heuristics"
      ]
    },
    {
      "cell_type": "code",
      "metadata": {
        "id": "YChHD8_ofsxS",
        "colab_type": "code",
        "colab": {}
      },
      "source": [
        "heuristics = {\"first_of_first\": first_of_first, \n",
        "              \"most_common\": most_common, \n",
        "              \"least_common\": least_common, \n",
        "              \"middle_common\": middle_common}"
      ],
      "execution_count": 0,
      "outputs": []
    },
    {
      "cell_type": "markdown",
      "metadata": {
        "id": "OmdmApAwgLr6",
        "colab_type": "text"
      },
      "source": [
        "## Comparision"
      ]
    },
    {
      "cell_type": "markdown",
      "metadata": {
        "id": "vryvlJQJrBwt",
        "colab_type": "text"
      },
      "source": [
        "### Helper functions"
      ]
    },
    {
      "cell_type": "code",
      "metadata": {
        "id": "riWBeqHHgNG_",
        "colab_type": "code",
        "colab": {}
      },
      "source": [
        "import time\n",
        "import signal\n",
        "\n",
        "def measure_time_on_file_with_limit(fn: str, \n",
        "                                    algorithm: BaseAlgorithm, \n",
        "                                    time_limit_in_seconds: int) -> Tuple[bool, float]:\n",
        "    def limit_handler(x, y):\n",
        "        raise Exception(\"eot\")\n",
        "    (_, _, cnf) = algorithm.get_cnf_from_file(fn)\n",
        "    result = None\n",
        "    signal.signal(signal.SIGALRM, limit_handler)\n",
        "    start = time.time()\n",
        "    signal.alarm(time_limit_in_seconds)\n",
        "    try:\n",
        "        result = algorithm.run(cnf)\n",
        "    except Exception:\n",
        "        # There was a timeout iff result is None\n",
        "        pass\n",
        "    end = time.time()\n",
        "    signal.alarm(0)\n",
        "    return (result, end - start)"
      ],
      "execution_count": 0,
      "outputs": []
    },
    {
      "cell_type": "markdown",
      "metadata": {
        "id": "1Yd-X6G8rIdY",
        "colab_type": "text"
      },
      "source": [
        "### Combinations to compare"
      ]
    },
    {
      "cell_type": "code",
      "metadata": {
        "id": "UbcxWzqIrHJe",
        "colab_type": "code",
        "colab": {}
      },
      "source": [
        "algorithms_with_heuristics =  {\n",
        "    algorithm_name + \"_\" + heuristic_name : algorithm(heuristic)\n",
        "    for algorithm_name, algorithm in algorithms.items()\n",
        "    for heuristic_name, heuristic in heuristics.items()}"
      ],
      "execution_count": 0,
      "outputs": []
    },
    {
      "cell_type": "code",
      "metadata": {
        "id": "e_I1td07nUhP",
        "colab_type": "code",
        "colab": {}
      },
      "source": [
        "files_to_test = [\"aim-50-1_6-no-1.cnf\", \"aim-50-3_4-yes1-1.cnf\", \"aim-50-2_0-no-4.cnf\", \"aim-50-2_0-yes1-1.cnf\", \"uf20-0101.cnf\", \"uf50-0707.cnf\", \"uuf50-0707.cnf\", \"aim-100-2_0-no-1.cnf\", \"aim-100-2_0-no-2.cnf\", \"uf125-012.cnf\", \"uuf125-012.cnf\"]"
      ],
      "execution_count": 0,
      "outputs": []
    },
    {
      "cell_type": "code",
      "metadata": {
        "id": "790NhJDhwvBk",
        "colab_type": "code",
        "colab": {}
      },
      "source": [
        "!wget https://www.cs.ubc.ca/~hoos/SATLIB/Benchmarks/SAT/RND3SAT/uf20-91.tar.gz\n",
        "!tar xf uf20-91.tar.gz\n",
        "!rm uf20-91.tar.gz\n",
        "!wget https://www.cs.ubc.ca/~hoos/SATLIB/Benchmarks/SAT/RND3SAT/uf50-218.tar.gz\n",
        "!tar xf uf50-218.tar.gz\n",
        "!rm uf50-218.tar.gz\n",
        "!wget https://www.cs.ubc.ca/~hoos/SATLIB/Benchmarks/SAT/RND3SAT/uuf50-218.tar.gz\n",
        "!tar xf uuf50-218.tar.gz\n",
        "!rm uuf50-218.tar.gz\n",
        "!wget https://www.cs.ubc.ca/~hoos/SATLIB/Benchmarks/SAT/RND3SAT/uf125-538.tar.gz\n",
        "!tar xf uf125-538.tar.gz\n",
        "!rm uf125-538.tar.gz\n",
        "!wget https://www.cs.ubc.ca/~hoos/SATLIB/Benchmarks/SAT/RND3SAT/uuf125-538.tar.gz\n",
        "!tar xf uuf125-538.tar.gz\n",
        "!rm uuf125-538.tar.gz\n",
        "!wget https://www.cs.ubc.ca/~hoos/SATLIB/Benchmarks/SAT/DIMACS/AIM/aim.tar.gz\n",
        "!tar xf aim.tar.gz\n",
        "!rm aim.tar.gz\n",
        "!find -name \"*.cnf\" -exec mv \\{\\} ./ \\; 2> /dev/null\n",
        "!mkdir -p tests\n",
        "!mv \"aim-50-1_6-no-1.cnf\" \"aim-50-3_4-yes1-1.cnf\" \"aim-50-2_0-no-4.cnf\" \"aim-50-2_0-yes1-1.cnf\" \"uf20-0101.cnf\" \"uf50-0707.cnf\" \"uuf50-0707.cnf\" \"aim-100-2_0-no-1.cnf\" \"aim-100-2_0-no-2.cnf\" \"uf125-012.cnf\" \"uuf125-012.cnf\" ./tests/\n",
        "!rm *.cnf\n",
        "!cp tests/* ./"
      ],
      "execution_count": 0,
      "outputs": []
    },
    {
      "cell_type": "code",
      "metadata": {
        "id": "ZiWlhKOnil-N",
        "colab_type": "code",
        "colab": {}
      },
      "source": [
        "results = {}"
      ],
      "execution_count": 0,
      "outputs": []
    },
    {
      "cell_type": "code",
      "metadata": {
        "id": "OF3ZsKIxts3s",
        "colab_type": "code",
        "outputId": "51f36d38-0c9c-4db8-e3a7-5c31ef88c91d",
        "colab": {
          "base_uri": "https://localhost:8080/",
          "height": 1000
        }
      },
      "source": [
        "for f in files_to_test:\n",
        "    for n, a in algorithms_with_heuristics.items():\n",
        "        res = measure_time_on_file_with_limit(f, a, 30)\n",
        "        results[(n, f)] = res\n",
        "        print(n, f, res)"
      ],
      "execution_count": 0,
      "outputs": [
        {
          "output_type": "stream",
          "text": [
            "DPLL_first_of_first aim-50-1_6-no-1.cnf (False, 0.32840657234191895)\n",
            "DPLL_most_common aim-50-1_6-no-1.cnf (False, 0.10799908638000488)\n",
            "DPLL_least_common aim-50-1_6-no-1.cnf (None, 30.000643968582153)\n",
            "DPLL_middle_common aim-50-1_6-no-1.cnf (False, 10.321396589279175)\n",
            "DP_first_of_first aim-50-1_6-no-1.cnf (None, 30.399317502975464)\n",
            "DP_most_common aim-50-1_6-no-1.cnf (None, 31.21528172492981)\n",
            "DP_least_common aim-50-1_6-no-1.cnf (False, 0.017838716506958008)\n",
            "DP_middle_common aim-50-1_6-no-1.cnf (None, 30.82250189781189)\n",
            "DPLL_first_of_first aim-50-3_4-yes1-1.cnf (True, 0.03325295448303223)\n",
            "DPLL_most_common aim-50-3_4-yes1-1.cnf (True, 0.5202136039733887)\n",
            "DPLL_least_common aim-50-3_4-yes1-1.cnf (True, 6.6106555461883545)\n",
            "DPLL_middle_common aim-50-3_4-yes1-1.cnf (True, 0.2520878314971924)\n",
            "DP_first_of_first aim-50-3_4-yes1-1.cnf (None, 33.025670289993286)\n",
            "DP_most_common aim-50-3_4-yes1-1.cnf (None, 31.649574995040894)\n",
            "DP_least_common aim-50-3_4-yes1-1.cnf (None, 39.9102246761322)\n",
            "DP_middle_common aim-50-3_4-yes1-1.cnf (None, 35.874491930007935)\n",
            "DPLL_first_of_first aim-50-2_0-no-4.cnf (False, 5.642754077911377)\n",
            "DPLL_most_common aim-50-2_0-no-4.cnf (False, 2.764810800552368)\n",
            "DPLL_least_common aim-50-2_0-no-4.cnf (None, 30.000403881072998)\n",
            "DPLL_middle_common aim-50-2_0-no-4.cnf (False, 5.9175732135772705)\n",
            "DP_first_of_first aim-50-2_0-no-4.cnf (None, 31.802494764328003)\n",
            "DP_most_common aim-50-2_0-no-4.cnf (None, 30.748937845230103)\n",
            "DP_least_common aim-50-2_0-no-4.cnf (None, 35.09308910369873)\n",
            "DP_middle_common aim-50-2_0-no-4.cnf (None, 33.52126431465149)\n",
            "DPLL_first_of_first aim-50-2_0-yes1-1.cnf (True, 2.2926716804504395)\n",
            "DPLL_most_common aim-50-2_0-yes1-1.cnf (True, 1.8174259662628174)\n",
            "DPLL_least_common aim-50-2_0-yes1-1.cnf (None, 30.000263214111328)\n",
            "DPLL_middle_common aim-50-2_0-yes1-1.cnf (True, 4.209372282028198)\n",
            "DP_first_of_first aim-50-2_0-yes1-1.cnf (None, 30.84337019920349)\n",
            "DP_most_common aim-50-2_0-yes1-1.cnf (None, 31.465791702270508)\n",
            "DP_least_common aim-50-2_0-yes1-1.cnf (None, 35.3998601436615)\n",
            "DP_middle_common aim-50-2_0-yes1-1.cnf (None, 32.43483066558838)\n",
            "DPLL_first_of_first uf20-0101.cnf (True, 0.007339954376220703)\n",
            "DPLL_most_common uf20-0101.cnf (True, 0.002201557159423828)\n",
            "DPLL_least_common uf20-0101.cnf (True, 0.019530057907104492)\n",
            "DPLL_middle_common uf20-0101.cnf (True, 0.0033349990844726562)\n",
            "DP_first_of_first uf20-0101.cnf (None, 31.93820333480835)\n",
            "DP_most_common uf20-0101.cnf (None, 32.79548263549805)\n",
            "DP_least_common uf20-0101.cnf (True, 12.789995431900024)\n",
            "DP_middle_common uf20-0101.cnf (None, 31.507838249206543)\n",
            "DPLL_first_of_first uf50-0707.cnf (True, 0.2338576316833496)\n",
            "DPLL_most_common uf50-0707.cnf (True, 0.016969919204711914)\n",
            "DPLL_least_common uf50-0707.cnf (True, 2.466982126235962)\n",
            "DPLL_middle_common uf50-0707.cnf (True, 0.45749759674072266)\n",
            "DP_first_of_first uf50-0707.cnf (None, 34.73366975784302)\n",
            "DP_most_common uf50-0707.cnf (None, 34.67880582809448)\n",
            "DP_least_common uf50-0707.cnf (None, 34.53481483459473)\n",
            "DP_middle_common uf50-0707.cnf (None, 33.66024613380432)\n",
            "DPLL_first_of_first uuf50-0707.cnf (False, 0.34107398986816406)\n",
            "DPLL_most_common uuf50-0707.cnf (False, 0.14882326126098633)\n",
            "DPLL_least_common uuf50-0707.cnf (False, 8.376945972442627)\n",
            "DPLL_middle_common uuf50-0707.cnf (False, 0.5267465114593506)\n",
            "DP_first_of_first uuf50-0707.cnf (None, 36.22384071350098)\n",
            "DP_most_common uuf50-0707.cnf (None, 36.01667642593384)\n",
            "DP_least_common uuf50-0707.cnf (None, 35.129183292388916)\n",
            "DP_middle_common uuf50-0707.cnf (None, 35.67857122421265)\n",
            "DPLL_first_of_first aim-100-2_0-no-1.cnf (None, 30.000799417495728)\n",
            "DPLL_most_common aim-100-2_0-no-1.cnf (None, 30.000829458236694)\n",
            "DPLL_least_common aim-100-2_0-no-1.cnf (None, 30.00119972229004)\n",
            "DPLL_middle_common aim-100-2_0-no-1.cnf (None, 30.000582218170166)\n",
            "DP_first_of_first aim-100-2_0-no-1.cnf (None, 31.850049018859863)\n",
            "DP_most_common aim-100-2_0-no-1.cnf (None, 32.36411428451538)\n",
            "DP_least_common aim-100-2_0-no-1.cnf (None, 36.74852228164673)\n",
            "DP_middle_common aim-100-2_0-no-1.cnf (None, 33.22119641304016)\n",
            "DPLL_first_of_first aim-100-2_0-no-2.cnf (None, 30.000890493392944)\n",
            "DPLL_most_common aim-100-2_0-no-2.cnf (None, 30.00075078010559)\n",
            "DPLL_least_common aim-100-2_0-no-2.cnf (None, 30.00104594230652)\n",
            "DPLL_middle_common aim-100-2_0-no-2.cnf (None, 30.00079035758972)\n",
            "DP_first_of_first aim-100-2_0-no-2.cnf (None, 32.38468098640442)\n",
            "DP_most_common aim-100-2_0-no-2.cnf (None, 33.61148452758789)\n",
            "DP_least_common aim-100-2_0-no-2.cnf (None, 34.21180701255798)\n",
            "DP_middle_common aim-100-2_0-no-2.cnf (None, 36.17365741729736)\n",
            "DPLL_first_of_first uf125-012.cnf (None, 30.00183939933777)\n",
            "DPLL_most_common uf125-012.cnf (True, 1.1613168716430664)\n",
            "DPLL_least_common uf125-012.cnf (None, 30.00194025039673)\n",
            "DPLL_middle_common uf125-012.cnf (None, 30.00209903717041)\n",
            "DP_first_of_first uf125-012.cnf (None, 37.78161263465881)\n",
            "DP_most_common uf125-012.cnf (None, 33.502182960510254)\n",
            "DP_least_common uf125-012.cnf (None, 33.45947265625)\n",
            "DP_middle_common uf125-012.cnf (None, 33.36627268791199)\n",
            "DPLL_first_of_first uuf125-012.cnf (None, 30.0019314289093)\n",
            "DPLL_most_common uuf125-012.cnf (None, 30.001338958740234)\n",
            "DPLL_least_common uuf125-012.cnf (None, 30.00712299346924)\n",
            "DPLL_middle_common uuf125-012.cnf (None, 30.001800298690796)\n",
            "DP_first_of_first uuf125-012.cnf (None, 33.15198755264282)\n",
            "DP_most_common uuf125-012.cnf (None, 35.49843502044678)\n",
            "DP_least_common uuf125-012.cnf (None, 34.35980248451233)\n",
            "DP_middle_common uuf125-012.cnf (None, 36.64634847640991)\n"
          ],
          "name": "stdout"
        }
      ]
    },
    {
      "cell_type": "markdown",
      "metadata": {
        "id": "dsjBilm-JJUo",
        "colab_type": "text"
      },
      "source": [
        "### Results"
      ]
    },
    {
      "cell_type": "code",
      "metadata": {
        "id": "SgnvqyQACNm3",
        "colab_type": "code",
        "outputId": "e927e8c6-b64c-4b8a-aa66-396f519418cd",
        "colab": {
          "base_uri": "https://localhost:8080/",
          "height": 55
        }
      },
      "source": [
        "print(results)"
      ],
      "execution_count": 0,
      "outputs": [
        {
          "output_type": "stream",
          "text": [
            "{('DPLL_first_of_first', 'aim-50-1_6-no-1.cnf'): (False, 0.32840657234191895), ('DPLL_most_common', 'aim-50-1_6-no-1.cnf'): (False, 0.10799908638000488), ('DPLL_least_common', 'aim-50-1_6-no-1.cnf'): (None, 30.000643968582153), ('DPLL_middle_common', 'aim-50-1_6-no-1.cnf'): (False, 10.321396589279175), ('DP_first_of_first', 'aim-50-1_6-no-1.cnf'): (None, 30.399317502975464), ('DP_most_common', 'aim-50-1_6-no-1.cnf'): (None, 31.21528172492981), ('DP_least_common', 'aim-50-1_6-no-1.cnf'): (False, 0.017838716506958008), ('DP_middle_common', 'aim-50-1_6-no-1.cnf'): (None, 30.82250189781189), ('DPLL_first_of_first', 'aim-50-3_4-yes1-1.cnf'): (True, 0.03325295448303223), ('DPLL_most_common', 'aim-50-3_4-yes1-1.cnf'): (True, 0.5202136039733887), ('DPLL_least_common', 'aim-50-3_4-yes1-1.cnf'): (True, 6.6106555461883545), ('DPLL_middle_common', 'aim-50-3_4-yes1-1.cnf'): (True, 0.2520878314971924), ('DP_first_of_first', 'aim-50-3_4-yes1-1.cnf'): (None, 33.025670289993286), ('DP_most_common', 'aim-50-3_4-yes1-1.cnf'): (None, 31.649574995040894), ('DP_least_common', 'aim-50-3_4-yes1-1.cnf'): (None, 39.9102246761322), ('DP_middle_common', 'aim-50-3_4-yes1-1.cnf'): (None, 35.874491930007935), ('DPLL_first_of_first', 'aim-50-2_0-no-4.cnf'): (False, 5.642754077911377), ('DPLL_most_common', 'aim-50-2_0-no-4.cnf'): (False, 2.764810800552368), ('DPLL_least_common', 'aim-50-2_0-no-4.cnf'): (None, 30.000403881072998), ('DPLL_middle_common', 'aim-50-2_0-no-4.cnf'): (False, 5.9175732135772705), ('DP_first_of_first', 'aim-50-2_0-no-4.cnf'): (None, 31.802494764328003), ('DP_most_common', 'aim-50-2_0-no-4.cnf'): (None, 30.748937845230103), ('DP_least_common', 'aim-50-2_0-no-4.cnf'): (None, 35.09308910369873), ('DP_middle_common', 'aim-50-2_0-no-4.cnf'): (None, 33.52126431465149), ('DPLL_first_of_first', 'aim-50-2_0-yes1-1.cnf'): (True, 2.2926716804504395), ('DPLL_most_common', 'aim-50-2_0-yes1-1.cnf'): (True, 1.8174259662628174), ('DPLL_least_common', 'aim-50-2_0-yes1-1.cnf'): (None, 30.000263214111328), ('DPLL_middle_common', 'aim-50-2_0-yes1-1.cnf'): (True, 4.209372282028198), ('DP_first_of_first', 'aim-50-2_0-yes1-1.cnf'): (None, 30.84337019920349), ('DP_most_common', 'aim-50-2_0-yes1-1.cnf'): (None, 31.465791702270508), ('DP_least_common', 'aim-50-2_0-yes1-1.cnf'): (None, 35.3998601436615), ('DP_middle_common', 'aim-50-2_0-yes1-1.cnf'): (None, 32.43483066558838), ('DPLL_first_of_first', 'uf20-0101.cnf'): (True, 0.007339954376220703), ('DPLL_most_common', 'uf20-0101.cnf'): (True, 0.002201557159423828), ('DPLL_least_common', 'uf20-0101.cnf'): (True, 0.019530057907104492), ('DPLL_middle_common', 'uf20-0101.cnf'): (True, 0.0033349990844726562), ('DP_first_of_first', 'uf20-0101.cnf'): (None, 31.93820333480835), ('DP_most_common', 'uf20-0101.cnf'): (None, 32.79548263549805), ('DP_least_common', 'uf20-0101.cnf'): (True, 12.789995431900024), ('DP_middle_common', 'uf20-0101.cnf'): (None, 31.507838249206543), ('DPLL_first_of_first', 'uf50-0707.cnf'): (True, 0.2338576316833496), ('DPLL_most_common', 'uf50-0707.cnf'): (True, 0.016969919204711914), ('DPLL_least_common', 'uf50-0707.cnf'): (True, 2.466982126235962), ('DPLL_middle_common', 'uf50-0707.cnf'): (True, 0.45749759674072266), ('DP_first_of_first', 'uf50-0707.cnf'): (None, 34.73366975784302), ('DP_most_common', 'uf50-0707.cnf'): (None, 34.67880582809448), ('DP_least_common', 'uf50-0707.cnf'): (None, 34.53481483459473), ('DP_middle_common', 'uf50-0707.cnf'): (None, 33.66024613380432), ('DPLL_first_of_first', 'uuf50-0707.cnf'): (False, 0.34107398986816406), ('DPLL_most_common', 'uuf50-0707.cnf'): (False, 0.14882326126098633), ('DPLL_least_common', 'uuf50-0707.cnf'): (False, 8.376945972442627), ('DPLL_middle_common', 'uuf50-0707.cnf'): (False, 0.5267465114593506), ('DP_first_of_first', 'uuf50-0707.cnf'): (None, 36.22384071350098), ('DP_most_common', 'uuf50-0707.cnf'): (None, 36.01667642593384), ('DP_least_common', 'uuf50-0707.cnf'): (None, 35.129183292388916), ('DP_middle_common', 'uuf50-0707.cnf'): (None, 35.67857122421265), ('DPLL_first_of_first', 'aim-100-2_0-no-1.cnf'): (None, 30.000799417495728), ('DPLL_most_common', 'aim-100-2_0-no-1.cnf'): (None, 30.000829458236694), ('DPLL_least_common', 'aim-100-2_0-no-1.cnf'): (None, 30.00119972229004), ('DPLL_middle_common', 'aim-100-2_0-no-1.cnf'): (None, 30.000582218170166), ('DP_first_of_first', 'aim-100-2_0-no-1.cnf'): (None, 31.850049018859863), ('DP_most_common', 'aim-100-2_0-no-1.cnf'): (None, 32.36411428451538), ('DP_least_common', 'aim-100-2_0-no-1.cnf'): (None, 36.74852228164673), ('DP_middle_common', 'aim-100-2_0-no-1.cnf'): (None, 33.22119641304016), ('DPLL_first_of_first', 'aim-100-2_0-no-2.cnf'): (None, 30.000890493392944), ('DPLL_most_common', 'aim-100-2_0-no-2.cnf'): (None, 30.00075078010559), ('DPLL_least_common', 'aim-100-2_0-no-2.cnf'): (None, 30.00104594230652), ('DPLL_middle_common', 'aim-100-2_0-no-2.cnf'): (None, 30.00079035758972), ('DP_first_of_first', 'aim-100-2_0-no-2.cnf'): (None, 32.38468098640442), ('DP_most_common', 'aim-100-2_0-no-2.cnf'): (None, 33.61148452758789), ('DP_least_common', 'aim-100-2_0-no-2.cnf'): (None, 34.21180701255798), ('DP_middle_common', 'aim-100-2_0-no-2.cnf'): (None, 36.17365741729736), ('DPLL_first_of_first', 'uf125-012.cnf'): (None, 30.00183939933777), ('DPLL_most_common', 'uf125-012.cnf'): (True, 1.1613168716430664), ('DPLL_least_common', 'uf125-012.cnf'): (None, 30.00194025039673), ('DPLL_middle_common', 'uf125-012.cnf'): (None, 30.00209903717041), ('DP_first_of_first', 'uf125-012.cnf'): (None, 37.78161263465881), ('DP_most_common', 'uf125-012.cnf'): (None, 33.502182960510254), ('DP_least_common', 'uf125-012.cnf'): (None, 33.45947265625), ('DP_middle_common', 'uf125-012.cnf'): (None, 33.36627268791199), ('DPLL_first_of_first', 'uuf125-012.cnf'): (None, 30.0019314289093), ('DPLL_most_common', 'uuf125-012.cnf'): (None, 30.001338958740234), ('DPLL_least_common', 'uuf125-012.cnf'): (None, 30.00712299346924), ('DPLL_middle_common', 'uuf125-012.cnf'): (None, 30.001800298690796), ('DP_first_of_first', 'uuf125-012.cnf'): (None, 33.15198755264282), ('DP_most_common', 'uuf125-012.cnf'): (None, 35.49843502044678), ('DP_least_common', 'uuf125-012.cnf'): (None, 34.35980248451233), ('DP_middle_common', 'uuf125-012.cnf'): (None, 36.64634847640991)}\n"
          ],
          "name": "stdout"
        }
      ]
    },
    {
      "cell_type": "code",
      "metadata": {
        "id": "YPp8qUW5CQYC",
        "colab_type": "code",
        "colab": {}
      },
      "source": [
        "results_backup = {('DPLL_first_of_first', 'aim-50-1_6-no-1.cnf'): (False, 0.32840657234191895), ('DPLL_most_common', 'aim-50-1_6-no-1.cnf'): (False, 0.10799908638000488), ('DPLL_least_common', 'aim-50-1_6-no-1.cnf'): (None, 30.000643968582153), ('DPLL_middle_common', 'aim-50-1_6-no-1.cnf'): (False, 10.321396589279175), ('DP_first_of_first', 'aim-50-1_6-no-1.cnf'): (None, 30.399317502975464), ('DP_most_common', 'aim-50-1_6-no-1.cnf'): (None, 31.21528172492981), ('DP_least_common', 'aim-50-1_6-no-1.cnf'): (False, 0.017838716506958008), ('DP_middle_common', 'aim-50-1_6-no-1.cnf'): (None, 30.82250189781189), ('DPLL_first_of_first', 'aim-50-3_4-yes1-1.cnf'): (True, 0.03325295448303223), ('DPLL_most_common', 'aim-50-3_4-yes1-1.cnf'): (True, 0.5202136039733887), ('DPLL_least_common', 'aim-50-3_4-yes1-1.cnf'): (True, 6.6106555461883545), ('DPLL_middle_common', 'aim-50-3_4-yes1-1.cnf'): (True, 0.2520878314971924), ('DP_first_of_first', 'aim-50-3_4-yes1-1.cnf'): (None, 33.025670289993286), ('DP_most_common', 'aim-50-3_4-yes1-1.cnf'): (None, 31.649574995040894), ('DP_least_common', 'aim-50-3_4-yes1-1.cnf'): (None, 39.9102246761322), ('DP_middle_common', 'aim-50-3_4-yes1-1.cnf'): (None, 35.874491930007935), ('DPLL_first_of_first', 'aim-50-2_0-no-4.cnf'): (False, 5.642754077911377), ('DPLL_most_common', 'aim-50-2_0-no-4.cnf'): (False, 2.764810800552368), ('DPLL_least_common', 'aim-50-2_0-no-4.cnf'): (None, 30.000403881072998), ('DPLL_middle_common', 'aim-50-2_0-no-4.cnf'): (False, 5.9175732135772705), ('DP_first_of_first', 'aim-50-2_0-no-4.cnf'): (None, 31.802494764328003), ('DP_most_common', 'aim-50-2_0-no-4.cnf'): (None, 30.748937845230103), ('DP_least_common', 'aim-50-2_0-no-4.cnf'): (None, 35.09308910369873), ('DP_middle_common', 'aim-50-2_0-no-4.cnf'): (None, 33.52126431465149), ('DPLL_first_of_first', 'aim-50-2_0-yes1-1.cnf'): (True, 2.2926716804504395), ('DPLL_most_common', 'aim-50-2_0-yes1-1.cnf'): (True, 1.8174259662628174), ('DPLL_least_common', 'aim-50-2_0-yes1-1.cnf'): (None, 30.000263214111328), ('DPLL_middle_common', 'aim-50-2_0-yes1-1.cnf'): (True, 4.209372282028198), ('DP_first_of_first', 'aim-50-2_0-yes1-1.cnf'): (None, 30.84337019920349), ('DP_most_common', 'aim-50-2_0-yes1-1.cnf'): (None, 31.465791702270508), ('DP_least_common', 'aim-50-2_0-yes1-1.cnf'): (None, 35.3998601436615), ('DP_middle_common', 'aim-50-2_0-yes1-1.cnf'): (None, 32.43483066558838), ('DPLL_first_of_first', 'uf20-0101.cnf'): (True, 0.007339954376220703), ('DPLL_most_common', 'uf20-0101.cnf'): (True, 0.002201557159423828), ('DPLL_least_common', 'uf20-0101.cnf'): (True, 0.019530057907104492), ('DPLL_middle_common', 'uf20-0101.cnf'): (True, 0.0033349990844726562), ('DP_first_of_first', 'uf20-0101.cnf'): (None, 31.93820333480835), ('DP_most_common', 'uf20-0101.cnf'): (None, 32.79548263549805), ('DP_least_common', 'uf20-0101.cnf'): (True, 12.789995431900024), ('DP_middle_common', 'uf20-0101.cnf'): (None, 31.507838249206543), ('DPLL_first_of_first', 'uf50-0707.cnf'): (True, 0.2338576316833496), ('DPLL_most_common', 'uf50-0707.cnf'): (True, 0.016969919204711914), ('DPLL_least_common', 'uf50-0707.cnf'): (True, 2.466982126235962), ('DPLL_middle_common', 'uf50-0707.cnf'): (True, 0.45749759674072266), ('DP_first_of_first', 'uf50-0707.cnf'): (None, 34.73366975784302), ('DP_most_common', 'uf50-0707.cnf'): (None, 34.67880582809448), ('DP_least_common', 'uf50-0707.cnf'): (None, 34.53481483459473), ('DP_middle_common', 'uf50-0707.cnf'): (None, 33.66024613380432), ('DPLL_first_of_first', 'uuf50-0707.cnf'): (False, 0.34107398986816406), ('DPLL_most_common', 'uuf50-0707.cnf'): (False, 0.14882326126098633), ('DPLL_least_common', 'uuf50-0707.cnf'): (False, 8.376945972442627), ('DPLL_middle_common', 'uuf50-0707.cnf'): (False, 0.5267465114593506), ('DP_first_of_first', 'uuf50-0707.cnf'): (None, 36.22384071350098), ('DP_most_common', 'uuf50-0707.cnf'): (None, 36.01667642593384), ('DP_least_common', 'uuf50-0707.cnf'): (None, 35.129183292388916), ('DP_middle_common', 'uuf50-0707.cnf'): (None, 35.67857122421265), ('DPLL_first_of_first', 'aim-100-2_0-no-1.cnf'): (None, 30.000799417495728), ('DPLL_most_common', 'aim-100-2_0-no-1.cnf'): (None, 30.000829458236694), ('DPLL_least_common', 'aim-100-2_0-no-1.cnf'): (None, 30.00119972229004), ('DPLL_middle_common', 'aim-100-2_0-no-1.cnf'): (None, 30.000582218170166), ('DP_first_of_first', 'aim-100-2_0-no-1.cnf'): (None, 31.850049018859863), ('DP_most_common', 'aim-100-2_0-no-1.cnf'): (None, 32.36411428451538), ('DP_least_common', 'aim-100-2_0-no-1.cnf'): (None, 36.74852228164673), ('DP_middle_common', 'aim-100-2_0-no-1.cnf'): (None, 33.22119641304016), ('DPLL_first_of_first', 'aim-100-2_0-no-2.cnf'): (None, 30.000890493392944), ('DPLL_most_common', 'aim-100-2_0-no-2.cnf'): (None, 30.00075078010559), ('DPLL_least_common', 'aim-100-2_0-no-2.cnf'): (None, 30.00104594230652), ('DPLL_middle_common', 'aim-100-2_0-no-2.cnf'): (None, 30.00079035758972), ('DP_first_of_first', 'aim-100-2_0-no-2.cnf'): (None, 32.38468098640442), ('DP_most_common', 'aim-100-2_0-no-2.cnf'): (None, 33.61148452758789), ('DP_least_common', 'aim-100-2_0-no-2.cnf'): (None, 34.21180701255798), ('DP_middle_common', 'aim-100-2_0-no-2.cnf'): (None, 36.17365741729736), ('DPLL_first_of_first', 'uf125-012.cnf'): (None, 30.00183939933777), ('DPLL_most_common', 'uf125-012.cnf'): (True, 1.1613168716430664), ('DPLL_least_common', 'uf125-012.cnf'): (None, 30.00194025039673), ('DPLL_middle_common', 'uf125-012.cnf'): (None, 30.00209903717041), ('DP_first_of_first', 'uf125-012.cnf'): (None, 37.78161263465881), ('DP_most_common', 'uf125-012.cnf'): (None, 33.502182960510254), ('DP_least_common', 'uf125-012.cnf'): (None, 33.45947265625), ('DP_middle_common', 'uf125-012.cnf'): (None, 33.36627268791199), ('DPLL_first_of_first', 'uuf125-012.cnf'): (None, 30.0019314289093), ('DPLL_most_common', 'uuf125-012.cnf'): (None, 30.001338958740234), ('DPLL_least_common', 'uuf125-012.cnf'): (None, 30.00712299346924), ('DPLL_middle_common', 'uuf125-012.cnf'): (None, 30.001800298690796), ('DP_first_of_first', 'uuf125-012.cnf'): (None, 33.15198755264282), ('DP_most_common', 'uuf125-012.cnf'): (None, 35.49843502044678), ('DP_least_common', 'uuf125-012.cnf'): (None, 34.35980248451233), ('DP_middle_common', 'uuf125-012.cnf'): (None, 36.64634847640991)}"
      ],
      "execution_count": 0,
      "outputs": []
    },
    {
      "cell_type": "code",
      "metadata": {
        "id": "nvv0BQIlFrk5",
        "colab_type": "code",
        "colab": {}
      },
      "source": [
        "import pandas as pd\n",
        "results_formated = {}\n",
        "for (alg_heu, fn), (res, t) in results.items():\n",
        "    [alg, heu] = alg_heu.split('_', 1)\n",
        "    if (alg, heu) not in results_formated:\n",
        "        results_formated[(alg, heu)] = {}\n",
        "    results_formated[(alg, heu)][fn] = t if res is not None else None\n",
        "res_df = pd.DataFrame(results_formated)"
      ],
      "execution_count": 0,
      "outputs": []
    },
    {
      "cell_type": "code",
      "metadata": {
        "id": "pd5LYObsGMwJ",
        "colab_type": "code",
        "colab": {
          "base_uri": "https://localhost:8080/",
          "height": 425
        },
        "outputId": "278f7893-45e9-4547-c232-4e9f37c0dc22"
      },
      "source": [
        "res_df"
      ],
      "execution_count": 57,
      "outputs": [
        {
          "output_type": "execute_result",
          "data": {
            "text/html": [
              "<div>\n",
              "<style scoped>\n",
              "    .dataframe tbody tr th:only-of-type {\n",
              "        vertical-align: middle;\n",
              "    }\n",
              "\n",
              "    .dataframe tbody tr th {\n",
              "        vertical-align: top;\n",
              "    }\n",
              "\n",
              "    .dataframe thead tr th {\n",
              "        text-align: left;\n",
              "    }\n",
              "</style>\n",
              "<table border=\"1\" class=\"dataframe\">\n",
              "  <thead>\n",
              "    <tr>\n",
              "      <th></th>\n",
              "      <th colspan=\"4\" halign=\"left\">DPLL</th>\n",
              "      <th colspan=\"4\" halign=\"left\">DP</th>\n",
              "    </tr>\n",
              "    <tr>\n",
              "      <th></th>\n",
              "      <th>first_of_first</th>\n",
              "      <th>most_common</th>\n",
              "      <th>least_common</th>\n",
              "      <th>middle_common</th>\n",
              "      <th>first_of_first</th>\n",
              "      <th>most_common</th>\n",
              "      <th>least_common</th>\n",
              "      <th>middle_common</th>\n",
              "    </tr>\n",
              "  </thead>\n",
              "  <tbody>\n",
              "    <tr>\n",
              "      <th>aim-50-1_6-no-1.cnf</th>\n",
              "      <td>0.328407</td>\n",
              "      <td>0.107999</td>\n",
              "      <td>NaN</td>\n",
              "      <td>10.321397</td>\n",
              "      <td>None</td>\n",
              "      <td>None</td>\n",
              "      <td>0.017839</td>\n",
              "      <td>None</td>\n",
              "    </tr>\n",
              "    <tr>\n",
              "      <th>aim-50-3_4-yes1-1.cnf</th>\n",
              "      <td>0.033253</td>\n",
              "      <td>0.520214</td>\n",
              "      <td>6.610656</td>\n",
              "      <td>0.252088</td>\n",
              "      <td>None</td>\n",
              "      <td>None</td>\n",
              "      <td>NaN</td>\n",
              "      <td>None</td>\n",
              "    </tr>\n",
              "    <tr>\n",
              "      <th>aim-50-2_0-no-4.cnf</th>\n",
              "      <td>5.642754</td>\n",
              "      <td>2.764811</td>\n",
              "      <td>NaN</td>\n",
              "      <td>5.917573</td>\n",
              "      <td>None</td>\n",
              "      <td>None</td>\n",
              "      <td>NaN</td>\n",
              "      <td>None</td>\n",
              "    </tr>\n",
              "    <tr>\n",
              "      <th>aim-50-2_0-yes1-1.cnf</th>\n",
              "      <td>2.292672</td>\n",
              "      <td>1.817426</td>\n",
              "      <td>NaN</td>\n",
              "      <td>4.209372</td>\n",
              "      <td>None</td>\n",
              "      <td>None</td>\n",
              "      <td>NaN</td>\n",
              "      <td>None</td>\n",
              "    </tr>\n",
              "    <tr>\n",
              "      <th>uf20-0101.cnf</th>\n",
              "      <td>0.007340</td>\n",
              "      <td>0.002202</td>\n",
              "      <td>0.019530</td>\n",
              "      <td>0.003335</td>\n",
              "      <td>None</td>\n",
              "      <td>None</td>\n",
              "      <td>12.789995</td>\n",
              "      <td>None</td>\n",
              "    </tr>\n",
              "    <tr>\n",
              "      <th>uf50-0707.cnf</th>\n",
              "      <td>0.233858</td>\n",
              "      <td>0.016970</td>\n",
              "      <td>2.466982</td>\n",
              "      <td>0.457498</td>\n",
              "      <td>None</td>\n",
              "      <td>None</td>\n",
              "      <td>NaN</td>\n",
              "      <td>None</td>\n",
              "    </tr>\n",
              "    <tr>\n",
              "      <th>uuf50-0707.cnf</th>\n",
              "      <td>0.341074</td>\n",
              "      <td>0.148823</td>\n",
              "      <td>8.376946</td>\n",
              "      <td>0.526747</td>\n",
              "      <td>None</td>\n",
              "      <td>None</td>\n",
              "      <td>NaN</td>\n",
              "      <td>None</td>\n",
              "    </tr>\n",
              "    <tr>\n",
              "      <th>aim-100-2_0-no-1.cnf</th>\n",
              "      <td>NaN</td>\n",
              "      <td>NaN</td>\n",
              "      <td>NaN</td>\n",
              "      <td>NaN</td>\n",
              "      <td>None</td>\n",
              "      <td>None</td>\n",
              "      <td>NaN</td>\n",
              "      <td>None</td>\n",
              "    </tr>\n",
              "    <tr>\n",
              "      <th>aim-100-2_0-no-2.cnf</th>\n",
              "      <td>NaN</td>\n",
              "      <td>NaN</td>\n",
              "      <td>NaN</td>\n",
              "      <td>NaN</td>\n",
              "      <td>None</td>\n",
              "      <td>None</td>\n",
              "      <td>NaN</td>\n",
              "      <td>None</td>\n",
              "    </tr>\n",
              "    <tr>\n",
              "      <th>uf125-012.cnf</th>\n",
              "      <td>NaN</td>\n",
              "      <td>1.161317</td>\n",
              "      <td>NaN</td>\n",
              "      <td>NaN</td>\n",
              "      <td>None</td>\n",
              "      <td>None</td>\n",
              "      <td>NaN</td>\n",
              "      <td>None</td>\n",
              "    </tr>\n",
              "    <tr>\n",
              "      <th>uuf125-012.cnf</th>\n",
              "      <td>NaN</td>\n",
              "      <td>NaN</td>\n",
              "      <td>NaN</td>\n",
              "      <td>NaN</td>\n",
              "      <td>None</td>\n",
              "      <td>None</td>\n",
              "      <td>NaN</td>\n",
              "      <td>None</td>\n",
              "    </tr>\n",
              "  </tbody>\n",
              "</table>\n",
              "</div>"
            ],
            "text/plain": [
              "                                DPLL              ...           DP              \n",
              "                      first_of_first most_common  ... least_common middle_common\n",
              "aim-50-1_6-no-1.cnf         0.328407    0.107999  ...     0.017839          None\n",
              "aim-50-3_4-yes1-1.cnf       0.033253    0.520214  ...          NaN          None\n",
              "aim-50-2_0-no-4.cnf         5.642754    2.764811  ...          NaN          None\n",
              "aim-50-2_0-yes1-1.cnf       2.292672    1.817426  ...          NaN          None\n",
              "uf20-0101.cnf               0.007340    0.002202  ...    12.789995          None\n",
              "uf50-0707.cnf               0.233858    0.016970  ...          NaN          None\n",
              "uuf50-0707.cnf              0.341074    0.148823  ...          NaN          None\n",
              "aim-100-2_0-no-1.cnf             NaN         NaN  ...          NaN          None\n",
              "aim-100-2_0-no-2.cnf             NaN         NaN  ...          NaN          None\n",
              "uf125-012.cnf                    NaN    1.161317  ...          NaN          None\n",
              "uuf125-012.cnf                   NaN         NaN  ...          NaN          None\n",
              "\n",
              "[11 rows x 8 columns]"
            ]
          },
          "metadata": {
            "tags": []
          },
          "execution_count": 57
        }
      ]
    }
  ]
}